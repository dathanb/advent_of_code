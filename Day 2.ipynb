{
 "cells": [
  {
   "cell_type": "code",
   "execution_count": 6,
   "metadata": {
    "collapsed": false
   },
   "outputs": [],
   "source": [
    "with open('day2.txt') as f:\n",
    "    content = f.readlines()\n",
    "for i in xrange(len(content)):\n",
    "    content[i] = content[i].strip()"
   ]
  },
  {
   "cell_type": "code",
   "execution_count": 12,
   "metadata": {
    "collapsed": false
   },
   "outputs": [],
   "source": [
    "def paper(l, w, h):\n",
    "    sides = [l*w, w*h, h*l]\n",
    "    extra = min(sides)\n",
    "    return 2*sum(sides) + extra"
   ]
  },
  {
   "cell_type": "code",
   "execution_count": 14,
   "metadata": {
    "collapsed": false
   },
   "outputs": [
    {
     "name": "stdout",
     "output_type": "stream",
     "text": [
      "1606483\n"
     ]
    }
   ],
   "source": [
    "total = 0\n",
    "for box in content:\n",
    "    dims = [int(x) for x in box.split('x')]\n",
    "    total += paper(*dims)\n",
    "print total"
   ]
  },
  {
   "cell_type": "code",
   "execution_count": null,
   "metadata": {
    "collapsed": true
   },
   "outputs": [],
   "source": [
    "def ribbon(l, w, h):\n",
    "    perimeters = [2*(l+w), 2*(w+h), 2*(h+l)]\n",
    "    volume = l*w*h\n",
    "    return min(perimters) + volume"
   ]
  }
 ],
 "metadata": {
  "kernelspec": {
   "display_name": "Python 2",
   "language": "python",
   "name": "python2"
  },
  "language_info": {
   "codemirror_mode": {
    "name": "ipython",
    "version": 2
   },
   "file_extension": ".py",
   "mimetype": "text/x-python",
   "name": "python",
   "nbconvert_exporter": "python",
   "pygments_lexer": "ipython2",
   "version": "2.7.10"
  }
 },
 "nbformat": 4,
 "nbformat_minor": 0
}
