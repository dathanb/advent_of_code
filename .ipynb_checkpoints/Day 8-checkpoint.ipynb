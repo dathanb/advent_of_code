{
 "cells": [
  {
   "cell_type": "code",
   "execution_count": 5,
   "metadata": {
    "collapsed": true
   },
   "outputs": [],
   "source": [
    "with open(\"day8.txt\") as f:\n",
    "    content = f.readlines()"
   ]
  },
  {
   "cell_type": "code",
   "execution_count": 65,
   "metadata": {
    "collapsed": false
   },
   "outputs": [],
   "source": [
    "def process_char(line, index):\n",
    "    if line[index] == \"\\\"\":\n",
    "#         print \"\\tFound unescaped double quote at index\", index\n",
    "        return (0, index+1)\n",
    "    elif line[index:index+2] == \"\\\\x\":\n",
    "#         print \"\\tFound hex escape at index\", index\n",
    "        return (1, index+4)\n",
    "    elif line[index:index+2] == '\\\\\\\"':\n",
    "#         print \"\\tFound escaped double quote at index\", index\n",
    "        return (1, index+2)\n",
    "    elif line[index:index+2] == '\\\\\\\\':\n",
    "        return (1, index+2)\n",
    "#     print \"\\t\", line[index], \"is worth one byte\"\n",
    "    return (1, index+1)\n",
    "\n",
    "def mem_size(line):\n",
    "    mem_size = 0\n",
    "    index = 0\n",
    "    while index < len(line):\n",
    "        char_size, index = process_char(line, index)\n",
    "        mem_size += char_size\n",
    "    return mem_size\n",
    "def mem(line):\n",
    "#     print \"Processing line\", line\n",
    "    return len(line)-mem_size(line)"
   ]
  },
  {
   "cell_type": "code",
   "execution_count": 66,
   "metadata": {
    "collapsed": false
   },
   "outputs": [
    {
     "name": "stdout",
     "output_type": "stream",
     "text": [
      "1333\n"
     ]
    }
   ],
   "source": [
    "print sum(mem(line.strip()) for line in content)"
   ]
  },
  {
   "cell_type": "code",
   "execution_count": 68,
   "metadata": {
    "collapsed": false
   },
   "outputs": [
    {
     "name": "stdout",
     "output_type": "stream",
     "text": [
      "2046\n"
     ]
    }
   ],
   "source": [
    "def escape_char(line, index):\n",
    "    ch = line[index]\n",
    "    if ch == \"\\\\\":\n",
    "        return (2, index+1)\n",
    "    elif ch == \"\\\"\":\n",
    "        return (2, index+1)\n",
    "    else:\n",
    "        return (1, index+1)\n",
    "    \n",
    "def escaped_len(line):\n",
    "    index = 0\n",
    "    count = 0\n",
    "    while index < len(line):\n",
    "        char_size, index = escape_char(line, index)\n",
    "        count += char_size\n",
    "    # Add two because the escaped version includes enclosing double quotes\n",
    "    return count + 2\n",
    "\n",
    "print sum(escaped_len(line)-len(line) for line in content)\n"
   ]
  }
 ],
 "metadata": {
  "kernelspec": {
   "display_name": "Python 2",
   "language": "python",
   "name": "python2"
  },
  "language_info": {
   "codemirror_mode": {
    "name": "ipython",
    "version": 2
   },
   "file_extension": ".py",
   "mimetype": "text/x-python",
   "name": "python",
   "nbconvert_exporter": "python",
   "pygments_lexer": "ipython2",
   "version": "2.7.10"
  }
 },
 "nbformat": 4,
 "nbformat_minor": 0
}
