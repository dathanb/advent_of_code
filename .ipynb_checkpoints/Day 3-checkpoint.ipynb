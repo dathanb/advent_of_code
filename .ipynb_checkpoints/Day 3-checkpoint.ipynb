{
 "cells": [
  {
   "cell_type": "code",
   "execution_count": 12,
   "metadata": {
    "collapsed": false
   },
   "outputs": [],
   "source": [
    "with open('day3.txt') as f:\n",
    "    content = ''.join(f.readlines())"
   ]
  },
  {
   "cell_type": "code",
   "execution_count": 13,
   "metadata": {
    "collapsed": false
   },
   "outputs": [],
   "source": [
    "pos = (0,0)\n",
    "up = lambda p: (p[0], p[1]+1)\n",
    "down = lambda p: (p[0], p[1]-1)\n",
    "left = lambda p: (p[0]-1, p[1])\n",
    "right = lambda p: (p[0]+1, p[1])\n",
    "funcs = {'^': up, 'v': down, '<': left, '>': right}"
   ]
  },
  {
   "cell_type": "code",
   "execution_count": 14,
   "metadata": {
    "collapsed": false
   },
   "outputs": [
    {
     "name": "stdout",
     "output_type": "stream",
     "text": [
      "2081\n"
     ]
    }
   ],
   "source": [
    "santa_counts = {}\n",
    "santa_counts[pos] = santa_counts.get(pos, 0)+1\n",
    "for _dir in content:\n",
    "    pos = funcs[_dir](pos)\n",
    "    santa_counts[pos] = santa_counts.get(pos, 0)+1\n",
    "print len(santa_counts)"
   ]
  },
  {
   "cell_type": "code",
   "execution_count": 16,
   "metadata": {
    "collapsed": false
   },
   "outputs": [
    {
     "name": "stdout",
     "output_type": "stream",
     "text": [
      "2341\n"
     ]
    }
   ],
   "source": [
    "dual_counts = {}\n",
    "# santa is positions[0] and robo santa is positions[1]\n",
    "positions = [(0,0), (0,0)]\n",
    "dual_counts[(0,0)] = 1\n",
    "for i in xrange(len(content)):\n",
    "    # use mod 2 so santa and robo santa take turns\n",
    "    positions[i%2] = funcs[content[i]](positions[i%2])\n",
    "    dual_counts[positions[i%2]] = dual_counts.get(positions[i%2], 0)+1\n",
    "print len(dual_counts)"
   ]
  },
  {
   "cell_type": "code",
   "execution_count": null,
   "metadata": {
    "collapsed": true
   },
   "outputs": [],
   "source": []
  }
 ],
 "metadata": {
  "kernelspec": {
   "display_name": "Python 2",
   "language": "python",
   "name": "python2"
  },
  "language_info": {
   "codemirror_mode": {
    "name": "ipython",
    "version": 2
   },
   "file_extension": ".py",
   "mimetype": "text/x-python",
   "name": "python",
   "nbconvert_exporter": "python",
   "pygments_lexer": "ipython2",
   "version": "2.7.10"
  }
 },
 "nbformat": 4,
 "nbformat_minor": 0
}
