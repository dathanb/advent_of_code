{
 "cells": [
  {
   "cell_type": "code",
   "execution_count": 2,
   "metadata": {
    "collapsed": true
   },
   "outputs": [],
   "source": [
    "with open(\"day7.txt\") as f:\n",
    "    content = f.readlines()"
   ]
  },
  {
   "cell_type": "code",
   "execution_count": 14,
   "metadata": {
    "collapsed": false
   },
   "outputs": [
    {
     "name": "stdout",
     "output_type": "stream",
     "text": [
      "3176\n"
     ]
    }
   ],
   "source": [
    "def not_operation(operand):\n",
    "    return ~operand\n",
    "def and_operation(operand1, operand2):\n",
    "    return operand1 & operand2\n",
    "def or_operation(operand1, operand2):\n",
    "    return operand1 | operand2\n",
    "def lshift_operation(operand, shift):\n",
    "    return operand << shift\n",
    "def rshift_operation(operand, shift):\n",
    "    return operand >> shift\n",
    "def constant_operation(constant):\n",
    "    return int(constant)\n",
    "\n",
    "memos = {}\n",
    "def memoized(func):\n",
    "    def decorator(wire):\n",
    "        global memos\n",
    "        if wire in memos:\n",
    "            return memos[wire]\n",
    "        memos[wire] = func(wire)\n",
    "        return memos[wire]\n",
    "    return decorator\n",
    "\n",
    "@memoized\n",
    "def resolve(wire):\n",
    "    if wire.isdigit():\n",
    "        return int(wire)\n",
    "    tokens = wires[wire]\n",
    "    if len(tokens) == 3:\n",
    "        return resolve(tokens[0])\n",
    "    elif tokens[0] == 'NOT':\n",
    "        return not_operation(resolve(tokens[1]))\n",
    "    elif tokens[1] == 'OR':\n",
    "        return or_operation(resolve(tokens[0]), resolve(tokens[2]))\n",
    "    elif tokens[1] == 'AND': \n",
    "        return and_operation(resolve(tokens[0]), resolve(tokens[2]))\n",
    "    elif tokens[1] == 'LSHIFT':\n",
    "        return lshift_operation(resolve(tokens[0]), int(tokens[2]))\n",
    "    elif tokens[1] == 'RSHIFT':\n",
    "        return rshift_operation(resolve(tokens[0]), int(tokens[2]))\n",
    "\n",
    "wires = {}\n",
    "for line in content:\n",
    "    tokens = line.strip().split(' ')\n",
    "    wires[tokens[-1]] = tokens\n",
    "\n",
    "print resolve('a')\n"
   ]
  },
  {
   "cell_type": "code",
   "execution_count": 15,
   "metadata": {
    "collapsed": false
   },
   "outputs": [
    {
     "name": "stdout",
     "output_type": "stream",
     "text": [
      "14710\n"
     ]
    }
   ],
   "source": [
    "wires['b'] = ['3176', '->', 'b']\n",
    "memos = {}\n",
    "print resolve('a')"
   ]
  }
 ],
 "metadata": {
  "kernelspec": {
   "display_name": "Python 2",
   "language": "python",
   "name": "python2"
  },
  "language_info": {
   "codemirror_mode": {
    "name": "ipython",
    "version": 2
   },
   "file_extension": ".py",
   "mimetype": "text/x-python",
   "name": "python",
   "nbconvert_exporter": "python",
   "pygments_lexer": "ipython2",
   "version": "2.7.10"
  }
 },
 "nbformat": 4,
 "nbformat_minor": 0
}
