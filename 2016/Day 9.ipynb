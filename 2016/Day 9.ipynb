{
 "cells": [
  {
   "cell_type": "code",
   "execution_count": 53,
   "metadata": {
    "collapsed": true
   },
   "outputs": [],
   "source": [
    "with open(\"day9.txt\") as f:\n",
    "    content = [l.strip() for l in f.readlines()]"
   ]
  },
  {
   "cell_type": "code",
   "execution_count": 68,
   "metadata": {
    "collapsed": false
   },
   "outputs": [],
   "source": [
    "def tokenize(line):\n",
    "    tokens = line.split(' ')\n",
    "    return (tokens[0], tokens[2], tokens[4])\n",
    "# build an adjacency matrix\n",
    "nums = {}\n",
    "for line in content:\n",
    "    src, dest, dist = tokenize(line)\n",
    "    if src not in nums:\n",
    "        nums[src] = len(nums)\n",
    "    if dest not in nums:\n",
    "        nums[dest] = len(nums)\n",
    "\n",
    "matrix = [[0 for _ in range(len(nums))] for _ in range(len(nums))]\n",
    "\n",
    "for line in content:\n",
    "    src, dest, dist = tokenize(line)\n",
    "    src_index = nums[src]\n",
    "    dest_index = nums[dest]\n",
    "    matrix[src_index][dest_index] = int(dist)\n",
    "    matrix[dest_index][src_index] = int(dist)"
   ]
  },
  {
   "cell_type": "code",
   "execution_count": 72,
   "metadata": {
    "collapsed": false
   },
   "outputs": [
    {
     "name": "stdout",
     "output_type": "stream",
     "text": [
      "251\n"
     ]
    }
   ],
   "source": [
    "_min = 1000000000\n",
    "def build_path(most_recent_node, remaining_nodes, length):\n",
    "    if not remaining_nodes:\n",
    "        return length\n",
    "    return min([build_path(i, remaining_nodes-set([i]), length+matrix[nums[most_recent_node]][nums[i]]) for i in remaining_nodes])\n",
    "\n",
    "nodes = set(nums.keys())\n",
    "print min(build_path(n, nodes-set([n]), 0) for n in nodes)"
   ]
  },
  {
   "cell_type": "code",
   "execution_count": 73,
   "metadata": {
    "collapsed": false
   },
   "outputs": [
    {
     "name": "stdout",
     "output_type": "stream",
     "text": [
      "898\n"
     ]
    }
   ],
   "source": [
    "_min = 1000000000\n",
    "def build_path(most_recent_node, remaining_nodes, length):\n",
    "    if not remaining_nodes:\n",
    "        return length\n",
    "    return max([build_path(i, remaining_nodes-set([i]), length+matrix[nums[most_recent_node]][nums[i]]) for i in remaining_nodes])\n",
    "\n",
    "nodes = set(nums.keys())\n",
    "print max(build_path(n, nodes-set([n]), 0) for n in nodes)"
   ]
  }
 ],
 "metadata": {
  "kernelspec": {
   "display_name": "Python 2",
   "language": "python",
   "name": "python2"
  },
  "language_info": {
   "codemirror_mode": {
    "name": "ipython",
    "version": 2
   },
   "file_extension": ".py",
   "mimetype": "text/x-python",
   "name": "python",
   "nbconvert_exporter": "python",
   "pygments_lexer": "ipython2",
   "version": "2.7.10"
  }
 },
 "nbformat": 4,
 "nbformat_minor": 0
}
