{
 "cells": [
  {
   "cell_type": "code",
   "execution_count": 1,
   "metadata": {
    "collapsed": true
   },
   "outputs": [],
   "source": [
    "with open('day6.txt') as f:\n",
    "    content = f.readlines()"
   ]
  },
  {
   "cell_type": "code",
   "execution_count": 5,
   "metadata": {
    "collapsed": false
   },
   "outputs": [],
   "source": [
    "def light_range(start, finish):\n",
    "    for x in xrange(start[0], finish[0]+1):\n",
    "        for y in xrange(start[1], finish[1]+1):\n",
    "            yield (x,y)\n",
    "def turn_on(lights, start, finish):\n",
    "    for pos in light_range(start, finish):\n",
    "        lights[pos[0]][pos[1]] = True\n",
    "def turn_off(lights, start, finish):\n",
    "    for pos in light_range(start, finish):\n",
    "        lights[pos[0]][pos[1]] = False\n",
    "def toggle(lights, start, finish):\n",
    "    for pos in light_range(start, finish):\n",
    "        lights[pos[0]][pos[1]] = not lights[pos[0]][pos[1]]"
   ]
  },
  {
   "cell_type": "code",
   "execution_count": 22,
   "metadata": {
    "collapsed": false
   },
   "outputs": [
    {
     "name": "stdout",
     "output_type": "stream",
     "text": [
      "569999\n",
      "569999\n"
     ]
    }
   ],
   "source": [
    "import re\n",
    "lights = [[False for _ in xrange(1000)] for _ in xrange(1000)]\n",
    "for line in content:\n",
    "    tokens = re.split('[ ,]', line.strip())\n",
    "    if tokens[1] == 'on':\n",
    "        func = turn_on\n",
    "        start = (int(tokens[2]), int(tokens[3]))\n",
    "        finish = (int(tokens[5]), int(tokens[6]))\n",
    "    elif tokens[1] == 'off':\n",
    "        func = turn_off\n",
    "        start = (int(tokens[2]), int(tokens[3]))\n",
    "        finish = (int(tokens[5]), int(tokens[6]))\n",
    "    elif tokens[0] == 'toggle':\n",
    "        func = toggle\n",
    "        start = (int(tokens[1]), int(tokens[2]))\n",
    "        finish = (int(tokens[4]), int(tokens[5]))\n",
    "    func(lights, start, finish)\n",
    "count = 0\n",
    "for x in xrange(len(lights)):\n",
    "    for y in xrange(len(lights[x])):\n",
    "        if lights[x][y]:\n",
    "            count += 1\n",
    "print count\n",
    "print len([light\n",
    "           for col in lights\n",
    "           for light in col\n",
    "           if light])"
   ]
  },
  {
   "cell_type": "code",
   "execution_count": 26,
   "metadata": {
    "collapsed": false
   },
   "outputs": [
    {
     "name": "stdout",
     "output_type": "stream",
     "text": [
      "17836115\n"
     ]
    }
   ],
   "source": [
    "lights = [[0 for _ in xrange(1000)] for _ in xrange(1000)]\n",
    "def turn_on(lights, start, finish):\n",
    "    for pos in light_range(start, finish):\n",
    "        lights[pos[0]][pos[1]] += 1\n",
    "def turn_off(lights, start, finish):\n",
    "    for pos in light_range(start, finish):\n",
    "        lights[pos[0]][pos[1]] = max(lights[pos[0]][pos[1]]-1, 0)\n",
    "def toggle(lights, start, finish):\n",
    "    for pos in light_range(start, finish):\n",
    "        lights[pos[0]][pos[1]] += 2\n",
    "import re\n",
    "for line in content:\n",
    "    tokens = re.split('[ ,]', line.strip())\n",
    "    if tokens[1] == 'on':\n",
    "        func = turn_on\n",
    "        start = (int(tokens[2]), int(tokens[3]))\n",
    "        finish = (int(tokens[5]), int(tokens[6]))\n",
    "    elif tokens[1] == 'off':\n",
    "        func = turn_off\n",
    "        start = (int(tokens[2]), int(tokens[3]))\n",
    "        finish = (int(tokens[5]), int(tokens[6]))\n",
    "    elif tokens[0] == 'toggle':\n",
    "        func = toggle\n",
    "        start = (int(tokens[1]), int(tokens[2]))\n",
    "        finish = (int(tokens[4]), int(tokens[5]))\n",
    "    func(lights, start, finish)\n",
    "print sum(light\n",
    "          for col in lights\n",
    "          for light in col)"
   ]
  }
 ],
 "metadata": {
  "kernelspec": {
   "display_name": "Python 2",
   "language": "python",
   "name": "python2"
  },
  "language_info": {
   "codemirror_mode": {
    "name": "ipython",
    "version": 2
   },
   "file_extension": ".py",
   "mimetype": "text/x-python",
   "name": "python",
   "nbconvert_exporter": "python",
   "pygments_lexer": "ipython2",
   "version": "2.7.10"
  }
 },
 "nbformat": 4,
 "nbformat_minor": 0
}
