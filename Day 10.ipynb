{
 "cells": [
  {
   "cell_type": "code",
   "execution_count": 22,
   "metadata": {
    "collapsed": true
   },
   "outputs": [],
   "source": [
    "import re\n",
    "def tokenize(num):\n",
    "    matches = re.findall(r'((\\d)\\2*)', num)\n",
    "    return [match[0] for match in matches]"
   ]
  },
  {
   "cell_type": "code",
   "execution_count": 3,
   "metadata": {
    "collapsed": true
   },
   "outputs": [],
   "source": [
    "def represent(group):\n",
    "    return str(len(group))+str(group[0])"
   ]
  },
  {
   "cell_type": "code",
   "execution_count": 26,
   "metadata": {
    "collapsed": false
   },
   "outputs": [
    {
     "name": "stdout",
     "output_type": "stream",
     "text": [
      "492982\n"
     ]
    }
   ],
   "source": [
    "num = '1321131112'\n",
    "\n",
    "for i in range(40):\n",
    "    num = ''.join([represent(group) for group in tokenize(num)])\n",
    "\n",
    "print len(num)\n",
    "    "
   ]
  },
  {
   "cell_type": "code",
   "execution_count": 27,
   "metadata": {
    "collapsed": false
   },
   "outputs": [
    {
     "name": "stdout",
     "output_type": "stream",
     "text": [
      "6989950\n"
     ]
    }
   ],
   "source": [
    "num = '1321131112'\n",
    "\n",
    "for i in range(50):\n",
    "    num = ''.join([represent(group) for group in tokenize(num)])\n",
    "\n",
    "print len(num)"
   ]
  }
 ],
 "metadata": {
  "kernelspec": {
   "display_name": "Python 2",
   "language": "python",
   "name": "python2"
  },
  "language_info": {
   "codemirror_mode": {
    "name": "ipython",
    "version": 2
   },
   "file_extension": ".py",
   "mimetype": "text/x-python",
   "name": "python",
   "nbconvert_exporter": "python",
   "pygments_lexer": "ipython2",
   "version": "2.7.10"
  }
 },
 "nbformat": 4,
 "nbformat_minor": 0
}
